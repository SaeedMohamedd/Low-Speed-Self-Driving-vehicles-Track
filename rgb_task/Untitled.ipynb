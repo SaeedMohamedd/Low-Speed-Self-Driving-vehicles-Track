{
 "cells": [
  {
   "cell_type": "code",
   "execution_count": 4,
   "id": "6fd7838d",
   "metadata": {
    "tags": []
   },
   "outputs": [
    {
     "output_type": "stream",
     "name": "stdout",
     "text": [
      "done\n"
     ]
    },
    {
     "output_type": "execute_result",
     "data": {
      "text/plain": [
       "'\\n    #print(img)\\n    imgs_list.append(img)\\n    cv2.imshow(\"image\",img)\\n    k=cv2.waitKey(1)\\n    if k == ord(\\'q\\'):\\n        break\\ncv2.destroyAllWindows()    \\n\\n\\nfor j in range(len(imgs_list)): \\n    cv2.imshow(\"image\",imgs_list[j])\\n    k=cv2.waitKey(1)\\n    if k == ord(\\'q\\'):\\n        break\\ncv2.destroyAllWindows()    \\n\\n#out = cv2.VideoWriter(\\'project.avi\\')\\n\\nfor k in range(len(imgs_list)):\\n    #print(imgs_list[i])\\n    \\n'"
      ]
     },
     "metadata": {},
     "execution_count": 4
    }
   ],
   "source": [
    "#image with 10000 fram diffreant color auto\n",
    "import cv2\n",
    "from random import randint\n",
    "img=np.zeros((500,500,3),np.uint8)\n",
    "out = cv2.VideoWriter('outpy.avi',cv2.VideoWriter_fourcc('M','J','P','G'), 10, (500,500))\n",
    "for i in range(400):\n",
    "    r = randint(0, 255)\n",
    "    g = randint(0, 255)\n",
    "    b = randint(0, 255)\n",
    "    img[:,:]=[r,g,b]\n",
    "    out.write(img)\n",
    "out.release()\n",
    "print(\"done\")\n",
    "\n",
    "'''\n",
    "    #print(img)\n",
    "    imgs_list.append(img)\n",
    "    cv2.imshow(\"image\",img)\n",
    "    k=cv2.waitKey(1)\n",
    "    if k == ord('q'):\n",
    "        break\n",
    "cv2.destroyAllWindows()    \n",
    "\n",
    "\n",
    "for j in range(len(imgs_list)): \n",
    "    cv2.imshow(\"image\",imgs_list[j])\n",
    "    k=cv2.waitKey(1)\n",
    "    if k == ord('q'):\n",
    "        break\n",
    "cv2.destroyAllWindows()    \n",
    "\n",
    "#out = cv2.VideoWriter('project.avi')\n",
    "\n",
    "for k in range(len(imgs_list)):\n",
    "    #print(imgs_list[i])\n",
    "    \n",
    "'''\n"
   ]
  },
  {
   "cell_type": "code",
   "execution_count": null,
   "id": "179c935d",
   "metadata": {},
   "outputs": [],
   "source": []
  },
  {
   "cell_type": "code",
   "execution_count": null,
   "metadata": {},
   "outputs": [],
   "source": []
  }
 ],
 "metadata": {
  "kernelspec": {
   "name": "python3710jvsc74a57bd0eb098ad43327e1526f948aa18187ab2a0a1283cdb0b36f299cd41b25d0bdd229",
   "display_name": "Python 3.7.10 64-bit ('base': conda)"
  },
  "language_info": {
   "codemirror_mode": {
    "name": "ipython",
    "version": 3
   },
   "file_extension": ".py",
   "mimetype": "text/x-python",
   "name": "python",
   "nbconvert_exporter": "python",
   "pygments_lexer": "ipython3",
   "version": "3.7.10"
  }
 },
 "nbformat": 4,
 "nbformat_minor": 5
}