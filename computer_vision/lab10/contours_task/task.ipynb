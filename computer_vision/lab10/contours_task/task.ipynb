{
 "metadata": {
  "language_info": {
   "codemirror_mode": {
    "name": "ipython",
    "version": 3
   },
   "file_extension": ".py",
   "mimetype": "text/x-python",
   "name": "python",
   "nbconvert_exporter": "python",
   "pygments_lexer": "ipython3",
   "version": "3.7.10"
  },
  "orig_nbformat": 2,
  "kernelspec": {
   "name": "python3710jvsc74a57bd0eb098ad43327e1526f948aa18187ab2a0a1283cdb0b36f299cd41b25d0bdd229",
   "display_name": "Python 3.7.10 64-bit ('base': conda)"
  }
 },
 "nbformat": 4,
 "nbformat_minor": 2,
 "cells": [
  {
   "cell_type": "code",
   "execution_count": 1,
   "metadata": {},
   "outputs": [],
   "source": [
    "import cv2\n",
    "import numpy as np\n",
    "from skimage import img_as_float\n",
    "import matplotlib.pyplot as plt"
   ]
  },
  {
   "cell_type": "code",
   "execution_count": 2,
   "metadata": {},
   "outputs": [],
   "source": [
    "img = cv2.imread('lab.png')\n",
    "gray = cv2.cvtColor(img, cv2.COLOR_BGR2GRAY)\n",
    "_, th = cv2.threshold(gray, 10, 255, cv2.THRESH_BINARY)\n"
   ]
  },
  {
   "cell_type": "code",
   "execution_count": 3,
   "metadata": {},
   "outputs": [
    {
     "output_type": "execute_result",
     "data": {
      "text/plain": [
       "8"
      ]
     },
     "metadata": {},
     "execution_count": 3
    }
   ],
   "source": [
    "contours,_ = cv2.findContours(th,cv2.RETR_LIST,cv2.CHAIN_APPROX_SIMPLE)\n",
    "len(contours)"
   ]
  },
  {
   "cell_type": "code",
   "execution_count": 20,
   "metadata": {},
   "outputs": [
    {
     "output_type": "display_data",
     "data": {
      "text/plain": "<Figure size 1440x720 with 1 Axes>",
      "image/svg+xml": "<?xml version=\"1.0\" encoding=\"utf-8\" standalone=\"no\"?>\n<!DOCTYPE svg PUBLIC \"-//W3C//DTD SVG 1.1//EN\"\n  \"http://www.w3.org/Graphics/SVG/1.1/DTD/svg11.dtd\">\n<!-- Created with matplotlib (https://matplotlib.org/) -->\n<svg height=\"561.5pt\" version=\"1.1\" viewBox=\"0 0 561.5 561.5\" width=\"561.5pt\" xmlns=\"http://www.w3.org/2000/svg\" xmlns:xlink=\"http://www.w3.org/1999/xlink\">\n <metadata>\n  <rdf:RDF xmlns:cc=\"http://creativecommons.org/ns#\" xmlns:dc=\"http://purl.org/dc/elements/1.1/\" xmlns:rdf=\"http://www.w3.org/1999/02/22-rdf-syntax-ns#\">\n   <cc:Work>\n    <dc:type rdf:resource=\"http://purl.org/dc/dcmitype/StillImage\"/>\n    <dc:date>2021-05-31T10:46:50.195443</dc:date>\n    <dc:format>image/svg+xml</dc:format>\n    <dc:creator>\n     <cc:Agent>\n      <dc:title>Matplotlib v3.3.4, https://matplotlib.org/</dc:title>\n     </cc:Agent>\n    </dc:creator>\n   </cc:Work>\n  </rdf:RDF>\n </metadata>\n <defs>\n  <style type=\"text/css\">*{stroke-linecap:butt;stroke-linejoin:round;}</style>\n </defs>\n <g id=\"figure_1\">\n  <g id=\"patch_1\">\n   <path d=\"M 0 561.5 \nL 561.5 561.5 \nL 561.5 0 \nL 0 0 \nz\n\" style=\"fill:none;\"/>\n  </g>\n  <g id=\"axes_1\">\n   <g id=\"patch_2\">\n    <path d=\"M 10.7 550.8 \nL 554.3 550.8 \nL 554.3 7.2 \nL 10.7 7.2 \nz\n\" style=\"fill:#ffffff;\"/>\n   </g>\n   <g clip-path=\"url(#pc33b32af04)\">\n    <image height=\"544\" id=\"image5614afc377\" transform=\"scale(1 -1)translate(0 -544)\" width=\"544\" x=\"10.7\" xlink:href=\"data:image/png;base64,\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\" y=\"-6.8\"/>\n   </g>\n   <g id=\"matplotlib.axis_1\"/>\n   <g id=\"matplotlib.axis_2\"/>\n   <g id=\"patch_3\">\n    <path d=\"M 10.7 550.8 \nL 10.7 7.2 \n\" style=\"fill:none;stroke:#000000;stroke-linecap:square;stroke-linejoin:miter;stroke-width:0.8;\"/>\n   </g>\n   <g id=\"patch_4\">\n    <path d=\"M 554.3 550.8 \nL 554.3 7.2 \n\" style=\"fill:none;stroke:#000000;stroke-linecap:square;stroke-linejoin:miter;stroke-width:0.8;\"/>\n   </g>\n   <g id=\"patch_5\">\n    <path d=\"M 10.7 550.8 \nL 554.3 550.8 \n\" style=\"fill:none;stroke:#000000;stroke-linecap:square;stroke-linejoin:miter;stroke-width:0.8;\"/>\n   </g>\n   <g id=\"patch_6\">\n    <path d=\"M 10.7 7.2 \nL 554.3 7.2 \n\" style=\"fill:none;stroke:#000000;stroke-linecap:square;stroke-linejoin:miter;stroke-width:0.8;\"/>\n   </g>\n  </g>\n </g>\n <defs>\n  <clipPath id=\"pc33b32af04\">\n   <rect height=\"543.6\" width=\"543.6\" x=\"10.7\" y=\"7.2\"/>\n  </clipPath>\n </defs>\n</svg>\n",
      "image/png": "[encoded data removed]"
     },
     "metadata": {}
    }
   ],
   "source": [
    "out=img.copy()\n",
    "cv2.drawContours(out, contours, 0, (255,255,255), -1);\n",
    "cv2.drawContours(out, contours, 5, (255,255,255), -1);\n",
    "cv2.drawContours(out, contours, 6, (255,255,255), -1);\n",
    "cv2.drawContours(out, contours, 3, (0,0,255), -1);  #squar\n",
    "#cv2.drawContours(out, contours, 1, (0,0,255), -1);  #circuit in squar\n",
    "cv2.drawContours(out, contours, 4, (255,0,0), -1); #oval shape\n",
    "#cv2.drawContours(out, contours, 2, (255,255,0), -1); #rectangle in side oval\n",
    "plt.figure(figsize=(20,10))\n",
    "plt.xticks([]); plt.yticks([])\n",
    "plt.imshow(out);"
   ]
  },
  {
   "cell_type": "code",
   "execution_count": null,
   "metadata": {},
   "outputs": [],
   "source": []
  },
  {
   "cell_type": "code",
   "execution_count": 5,
   "metadata": {},
   "outputs": [
    {
     "output_type": "error",
     "ename": "TypeError",
     "evalue": "Expected Ptr<cv::UMat> for argument 'src1'",
     "traceback": [
      "\u001b[0;31m---------------------------------------------------------------------------\u001b[0m",
      "\u001b[0;31mTypeError\u001b[0m                                 Traceback (most recent call last)",
      "\u001b[0;32m<ipython-input-5-513f08dd0004>\u001b[0m in \u001b[0;36m<module>\u001b[0;34m\u001b[0m\n\u001b[1;32m      1\u001b[0m \u001b[0mmask\u001b[0m \u001b[0;34m=\u001b[0m \u001b[0mnp\u001b[0m\u001b[0;34m.\u001b[0m\u001b[0mones\u001b[0m\u001b[0;34m(\u001b[0m\u001b[0mth\u001b[0m\u001b[0;34m.\u001b[0m\u001b[0mshape\u001b[0m\u001b[0;34m[\u001b[0m\u001b[0;34m:\u001b[0m\u001b[0;36m2\u001b[0m\u001b[0;34m]\u001b[0m\u001b[0;34m,\u001b[0m \u001b[0mdtype\u001b[0m\u001b[0;34m=\u001b[0m\u001b[0;34m\"uint8\"\u001b[0m\u001b[0;34m)\u001b[0m \u001b[0;34m*\u001b[0m \u001b[0;36m255\u001b[0m\u001b[0;34m\u001b[0m\u001b[0;34m\u001b[0m\u001b[0m\n\u001b[0;32m----> 2\u001b[0;31m \u001b[0mimage\u001b[0m \u001b[0;34m=\u001b[0m \u001b[0mcv2\u001b[0m\u001b[0;34m.\u001b[0m\u001b[0mbitwise_and\u001b[0m\u001b[0;34m(\u001b[0m\u001b[0mcontours\u001b[0m\u001b[0;34m,\u001b[0m \u001b[0mcontours\u001b[0m\u001b[0;34m[\u001b[0m\u001b[0;36m0\u001b[0m\u001b[0;34m]\u001b[0m\u001b[0;34m,\u001b[0m \u001b[0mmask\u001b[0m\u001b[0;34m=\u001b[0m\u001b[0mmask\u001b[0m\u001b[0;34m)\u001b[0m\u001b[0;34m\u001b[0m\u001b[0;34m\u001b[0m\u001b[0m\n\u001b[0m\u001b[1;32m      3\u001b[0m \u001b[0mcv2\u001b[0m\u001b[0;34m.\u001b[0m\u001b[0mdrawContours\u001b[0m\u001b[0;34m(\u001b[0m\u001b[0mmask\u001b[0m\u001b[0;34m,\u001b[0m \u001b[0mcontours\u001b[0m\u001b[0;34m[\u001b[0m\u001b[0;36m0\u001b[0m\u001b[0;34m]\u001b[0m\u001b[0;34m,\u001b[0m \u001b[0;34m-\u001b[0m\u001b[0;36m1\u001b[0m\u001b[0;34m,\u001b[0m \u001b[0;34m(\u001b[0m\u001b[0;36m0\u001b[0m\u001b[0;34m,\u001b[0m\u001b[0;36m0\u001b[0m\u001b[0;34m,\u001b[0m\u001b[0;36m255\u001b[0m\u001b[0;34m)\u001b[0m\u001b[0;34m,\u001b[0m \u001b[0;36m2\u001b[0m\u001b[0;34m)\u001b[0m\u001b[0;34m\u001b[0m\u001b[0;34m\u001b[0m\u001b[0m\n",
      "\u001b[0;31mTypeError\u001b[0m: Expected Ptr<cv::UMat> for argument 'src1'"
     ]
    }
   ],
   "source": [
    "mask = np.ones(th.shape[:2], dtype=\"uint8\") * 255\n",
    "image = cv2.bitwise_and(contours, contours[0], mask=mask)\n",
    "cv2.drawContours(mask, contours, 0, (255,255,255), -1)\n"
   ]
  },
  {
   "cell_type": "code",
   "execution_count": null,
   "metadata": {},
   "outputs": [],
   "source": []
  },
  {
   "cell_type": "code",
   "execution_count": 12,
   "metadata": {},
   "outputs": [],
   "source": [
    "mask = np.ones(th.shape[:2], dtype=\"uint8\") * 255\n",
    "# loop over the contours\n",
    "counter=0\n",
    "for c in contours:\n",
    "\t# if the contour is bad, draw it on the mask\n",
    "\tif counter==0 or counter==5 or counter==6:\n",
    "\t\tcv2.drawContours(mask, c, -1, (0,0,255), 2)\n",
    "\t\t#cv2.drawContours(mask, [c], -1, 0, -1)\n",
    "\tcounter+=1"
   ]
  },
  {
   "cell_type": "code",
   "execution_count": 14,
   "metadata": {},
   "outputs": [
    {
     "output_type": "error",
     "ename": "TypeError",
     "evalue": "Expected Ptr<cv::UMat> for argument 'mat'",
     "traceback": [
      "\u001b[0;31m---------------------------------------------------------------------------\u001b[0m",
      "\u001b[0;31mTypeError\u001b[0m                                 Traceback (most recent call last)",
      "\u001b[0;32m<ipython-input-14-7920bc5f3eca>\u001b[0m in \u001b[0;36m<module>\u001b[0;34m\u001b[0m\n\u001b[0;32m----> 1\u001b[0;31m \u001b[0mcv2\u001b[0m\u001b[0;34m.\u001b[0m\u001b[0mimshow\u001b[0m\u001b[0;34m(\u001b[0m\u001b[0;34m'Output'\u001b[0m\u001b[0;34m,\u001b[0m \u001b[0mcontours\u001b[0m\u001b[0;34m)\u001b[0m\u001b[0;34m\u001b[0m\u001b[0;34m\u001b[0m\u001b[0m\n\u001b[0m",
      "\u001b[0;31mTypeError\u001b[0m: Expected Ptr<cv::UMat> for argument 'mat'"
     ]
    }
   ],
   "source": [
    "    cv2.imshow('Output', contours)"
   ]
  },
  {
   "cell_type": "code",
   "execution_count": 4,
   "metadata": {},
   "outputs": [
    {
     "output_type": "stream",
     "name": "stdout",
     "text": [
      "8\n",
      "8\n",
      "8\n",
      "8\n",
      "8\n",
      "8\n"
     ]
    }
   ],
   "source": [
    "def nothing(x):\n",
    "    pass\n",
    "\n",
    "reter = [\n",
    "    cv2.RETR_LIST,\n",
    "    cv2.RETR_TREE,\n",
    "    cv2.RETR_CCOMP,\n",
    "    cv2.RETR_EXTERNAL\n",
    "    ]\n",
    "\n",
    "approx= [\n",
    "    cv2.CHAIN_APPROX_NONE,\n",
    "\tcv2.CHAIN_APPROX_SIMPLE\n",
    "]\n",
    "\n",
    "strRet = [\n",
    "    'List',\n",
    "    'Tree',\n",
    "    'CCOMP',\n",
    "    'External'\n",
    "]\n",
    "\n",
    "cv2.namedWindow('Output')\n",
    "\n",
    "cv2.createTrackbar('hir', 'Output', 0, len(reter)-1, nothing)\n",
    "cv2.createTrackbar('app', 'Output', 0, len(approx)-1, nothing)\n",
    "\n",
    "font = cv2.FONT_HERSHEY_COMPLEX\n",
    "\n",
    "while 1:\n",
    "    out = img.copy()\n",
    "\n",
    "    hir = cv2.getTrackbarPos('hir', 'Output')\n",
    "    app = cv2.getTrackbarPos('app', 'Output')\n",
    "    \n",
    "    cv2.putText(\n",
    "        out,\n",
    "        ('Ret: {} Approx: {}').format(strRet[hir], app),\n",
    "        (10, out.shape[0]-20),\n",
    "        font, 1, (255, 100, 0), 2, cv2.LINE_AA)\n",
    "    \n",
    "    contours, _ = cv2.findContours(th, reter[0], approx[app])\n",
    "    cv2.drawContours(out, contours, -1, (0, 255, 0), 2)\n",
    "    print (len(contours))\n",
    "    counter=0\n",
    "    cnts = list(filter(lambda x: (cv2.arcLength(x, True) > 200), contours))\n",
    "\n",
    "    cv2.drawContours(out, cnts, -1, (0,0,255), 2)\n",
    "    for contour in cnts:\n",
    "        #cv2.bitwise_and([contour], [contour], mask=mask)\n",
    "        cv2.drawContours(out, [contour], 0, (0, 0, 255), 3)\n",
    "\n",
    "    \n",
    "        cv2.imshow('Output', out)\n",
    "\n",
    "        k = cv2.waitKey(0)\n",
    "        if k == 27:\n",
    "            break\n",
    "    \n",
    "    cv2.imshow('Output', out)\n",
    "    k = cv2.waitKey(0)\n",
    "    if k == 27:\n",
    "        break\n",
    "\n",
    "cv2.destroyAllWindows()"
   ]
  },
  {
   "cell_type": "code",
   "execution_count": 22,
   "metadata": {},
   "outputs": [
    {
     "output_type": "execute_result",
     "data": {
      "text/plain": [
       "array([[[  0,   0, 255],\n",
       "        [  0,   0, 255],\n",
       "        [  0,   0, 255],\n",
       "        ...,\n",
       "        [  0,   0, 255],\n",
       "        [  0,   0, 255],\n",
       "        [  0,   0, 255]],\n",
       "\n",
       "       [[  0,   0, 255],\n",
       "        [  0,   0, 255],\n",
       "        [  0,   0, 255],\n",
       "        ...,\n",
       "        [  0,   0, 255],\n",
       "        [  0,   0, 255],\n",
       "        [  0,   0, 255]],\n",
       "\n",
       "       [[  0,   0, 255],\n",
       "        [  0,   0, 255],\n",
       "        [  0,   0, 255],\n",
       "        ...,\n",
       "        [  0,   0, 255],\n",
       "        [  0,   0, 255],\n",
       "        [  0,   0, 255]],\n",
       "\n",
       "       ...,\n",
       "\n",
       "       [[  0,   0, 255],\n",
       "        [  0,   0, 255],\n",
       "        [  0,   0, 255],\n",
       "        ...,\n",
       "        [  0,   0, 255],\n",
       "        [  0,   0, 255],\n",
       "        [  0,   0, 255]],\n",
       "\n",
       "       [[  0,   0, 255],\n",
       "        [  0,   0, 255],\n",
       "        [  0,   0, 255],\n",
       "        ...,\n",
       "        [  0,   0, 255],\n",
       "        [  0,   0, 255],\n",
       "        [  0,   0, 255]],\n",
       "\n",
       "       [[  0,   0, 255],\n",
       "        [  0,   0, 255],\n",
       "        [  0,   0, 255],\n",
       "        ...,\n",
       "        [  0,   0, 255],\n",
       "        [  0,   0, 255],\n",
       "        [  0,   0, 255]]], dtype=uint8)"
      ]
     },
     "metadata": {},
     "execution_count": 22
    }
   ],
   "source": []
  },
  {
   "cell_type": "code",
   "execution_count": 23,
   "metadata": {},
   "outputs": [
    {
     "output_type": "execute_result",
     "data": {
      "text/plain": [
       "8"
      ]
     },
     "metadata": {},
     "execution_count": 23
    }
   ],
   "source": [
    "len(contours)"
   ]
  },
  {
   "cell_type": "code",
   "execution_count": null,
   "metadata": {},
   "outputs": [],
   "source": []
  }
 ]
}