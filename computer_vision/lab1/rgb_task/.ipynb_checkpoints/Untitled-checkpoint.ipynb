{
 "cells": [
  {
   "cell_type": "code",
   "execution_count": 4,
   "id": "be4e69f3",
   "metadata": {},
   "outputs": [],
   "source": [
    "#image with 10000 fram diffreant color auto\n",
    "\n",
    "import cv2\n",
    "import numpy as np \n",
    "from matplotlib import pyplot as plt \n",
    "from random import randint\n",
    "\n",
    "img=np.zeros((500,500,3),np.uint8)\n",
    "#cv2.namedWindow('image')\n",
    "i=0\n",
    "imgs_list=[]\n",
    "size = (500,500)\n",
    "for i in range(1000):\n",
    "    r = randint(0, 255)\n",
    "    g = randint(0, 255)\n",
    "    b = randint(0, 255)\n",
    "    #print(r,g,b)\n",
    "    #img[:,:]=[r,g,b]\n",
    "    img[:,:,:]=[r,g,b]\n",
    "    imgs_list.append(img) \n",
    "out = cv2.VideoWriter('project.avi',cv2.VideoWriter_fourcc(*'DIVX'), 15, size)\n",
    " \n",
    "for i in range(len(imgs_list)):\n",
    "    out.write(imgs_list[i])\n",
    "out.release()"
   ]
  },
  {
   "cell_type": "code",
   "execution_count": null,
   "id": "d2ca2f23",
   "metadata": {},
   "outputs": [],
   "source": []
  }
 ],
 "metadata": {
  "kernelspec": {
   "display_name": "Python 3",
   "language": "python",
   "name": "python3"
  },
  "language_info": {
   "codemirror_mode": {
    "name": "ipython",
    "version": 3
   },
   "file_extension": ".py",
   "mimetype": "text/x-python",
   "name": "python",
   "nbconvert_exporter": "python",
   "pygments_lexer": "ipython3",
   "version": "3.7.10"
  }
 },
 "nbformat": 4,
 "nbformat_minor": 5
}
