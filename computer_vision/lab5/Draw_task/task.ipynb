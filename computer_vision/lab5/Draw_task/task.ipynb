{
 "metadata": {
  "language_info": {
   "codemirror_mode": {
    "name": "ipython",
    "version": 3
   },
   "file_extension": ".py",
   "mimetype": "text/x-python",
   "name": "python",
   "nbconvert_exporter": "python",
   "pygments_lexer": "ipython3",
   "version": "3.7.10"
  },
  "orig_nbformat": 2,
  "kernelspec": {
   "name": "python3710jvsc74a57bd0eb098ad43327e1526f948aa18187ab2a0a1283cdb0b36f299cd41b25d0bdd229",
   "display_name": "Python 3.7.10 64-bit ('base': conda)"
  }
 },
 "nbformat": 4,
 "nbformat_minor": 2,
 "cells": [
  {
   "cell_type": "code",
   "execution_count": 19,
   "metadata": {},
   "outputs": [],
   "source": [
    "import numpy as np\n",
    "import cv2 as cv\n",
    "\n",
    "\n",
    "\n",
    "# mouse callback function\n",
    "def draw_circle(event,x,y,flags,param):\n",
    "    if event == cv.EVENT_LBUTTONDOWN:\n",
    "        cv.rectangle(img, (x,y), (x+10,y+10), (0,255, 0), -1)\n",
    "    if event == cv.EVENT_LBUTTONUP:\n",
    "        cv.rectangle(img, (x,y), (x+20,y+10), (0,0, 255), -1)\n",
    "    if event == cv.EVENT_RBUTTONUP :\n",
    "        cv.circle(img,(x,y),15,(255,0, 0),-1)\n",
    "    if event == cv.EVENT_RBUTTONDOWN:\n",
    "        cv.ellipse(img,(x,y),(15,15),0,0,180,(0,255,255),2)\n",
    "    if event == cv.EVENT_MBUTTONUP:\n",
    "        cv.putText(img,'Saeed',(x,y), font, 4,(255,255,255),2,cv.LINE_AA)\n",
    "    #if event == cv.EVENT_MBUTTONUP:\n",
    "    #    cv.circle(img,(x,y),10,(255,0, 0),-1)\n",
    "\n",
    "img = np.zeros((512,512,3), np.uint8)\n",
    "cv.namedWindow('image')\n",
    "cv.setMouseCallback('image', draw_circle)\n",
    "while(1):\n",
    "    cv.imshow('image',img)\n",
    "    if cv.waitKey(20) == ord('q'):\n",
    "        break\n",
    "\n",
    "cv.destroyAllWindows()"
   ]
  },
  {
   "cell_type": "code",
   "execution_count": null,
   "metadata": {},
   "outputs": [],
   "source": []
  }
 ]
}